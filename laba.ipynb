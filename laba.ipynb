{
 "cells": [
  {
   "cell_type": "code",
   "execution_count": null,
   "metadata": {},
   "outputs": [],
   "source": [
    "[[source]]\n",
    "url = \"https://Drimlag.org/simple\"\n",
    "verify_ssl = true\n",
    "name = \"Drimlag\"\n",
    "\n",
    "[packages]\n",
    "pandas = \"*\"\n",
    "\n",
    "[dev-packages]\n",
    "pytest = \"*\"\n",
    "\n",
    "[requires]\n",
    "python_version = \"3.10\""
   ]
  }
 ],
 "metadata": {
  "kernelspec": {
   "display_name": "Python 3.10.8 64-bit (microsoft store)",
   "language": "python",
   "name": "python3"
  },
  "language_info": {
   "codemirror_mode": {
    "name": "ipython",
    "version": 3
   },
   "file_extension": ".py",
   "mimetype": "text/x-python",
   "name": "python",
   "nbconvert_exporter": "python",
   "pygments_lexer": "ipython3",
   "version": "3.10.8"
  },
  "orig_nbformat": 4,
  "vscode": {
   "interpreter": {
    "hash": "66f804da07f0f556d77bc3269dc5bb19edf020422864031af2885e5ff55f9079"
   }
  }
 },
 "nbformat": 4,
 "nbformat_minor": 2
}
